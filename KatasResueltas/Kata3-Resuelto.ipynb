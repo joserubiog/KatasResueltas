{
 "cells": [
  {
   "cell_type": "markdown",
   "metadata": {},
   "source": [
    "# Kata 3"
   ]
  },
  {
   "cell_type": "markdown",
   "metadata": {},
   "source": [
    "ASTEROIDE"
   ]
  },
  {
   "cell_type": "code",
   "execution_count": 15,
   "metadata": {},
   "outputs": [
    {
     "name": "stdout",
     "output_type": "stream",
     "text": [
      "Asteroide acercandose rapidamente, CORRAN!\n"
     ]
    }
   ],
   "source": [
    "a = 49\n",
    "\n",
    "if a > 25:\n",
    "    print(\"Asteroide acercandose rapidamente, CORRAN!\")\n",
    "elif a == b:\n",
    "    print(\"Estamos a salvo!\")"
   ]
  },
  {
   "cell_type": "markdown",
   "metadata": {},
   "source": [
    "LUZ"
   ]
  },
  {
   "cell_type": "code",
   "execution_count": 16,
   "metadata": {},
   "outputs": [
    {
     "name": "stdout",
     "output_type": "stream",
     "text": [
      "Al parecer solo era el sol\n"
     ]
    }
   ],
   "source": [
    "asteroide = 19\n",
    "if asteroide > 20:\n",
    "    print('Se alcanza a ver un rayo de luz en el cielo')\n",
    "elif asteroide == 20:\n",
    "    print('Se alcanza a ver un rayo de luz en el cielo')\n",
    "else:\n",
    "    print('Al parecer solo era el sol')"
   ]
  },
  {
   "cell_type": "markdown",
   "metadata": {},
   "source": [
    "VELOCIDAD"
   ]
  },
  {
   "cell_type": "code",
   "execution_count": 18,
   "metadata": {},
   "outputs": [
    {
     "name": "stdout",
     "output_type": "stream",
     "text": [
      "Se alcanza a ver un rayo de luz en el cielo\n"
     ]
    }
   ],
   "source": [
    "vel_a = 25\n",
    "tam_a = 40\n",
    "if vel_a > 25 and tam_a> 25:\n",
    "    print('Asteroide acercandose rapidamente, CORRAN!')\n",
    "elif vel_a >= 20:\n",
    "    print('Se alcanza a ver un rayo de luz en el cielo')\n",
    "elif tam_a < 25:\n",
    "    print('Al parecer solo era el sol')\n",
    "else:\n",
    "    print('Al parecer solo era el sol')"
   ]
  },
  {
   "cell_type": "markdown",
   "metadata": {},
   "source": []
  }
 ],
 "metadata": {
  "interpreter": {
   "hash": "6a2cf6deb8d25baae544a03ba847554ebf6c118e503a2d74b3aa78c6d9b2427c"
  },
  "kernelspec": {
   "display_name": "Python 3.10.2 64-bit",
   "language": "python",
   "name": "python3"
  },
  "language_info": {
   "codemirror_mode": {
    "name": "ipython",
    "version": 3
   },
   "file_extension": ".py",
   "mimetype": "text/x-python",
   "name": "python",
   "nbconvert_exporter": "python",
   "pygments_lexer": "ipython3",
   "version": "3.10.2"
  },
  "orig_nbformat": 4
 },
 "nbformat": 4,
 "nbformat_minor": 2
}
